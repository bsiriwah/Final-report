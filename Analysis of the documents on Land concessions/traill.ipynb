{
 "metadata": {
  "language_info": {
   "codemirror_mode": {
    "name": "ipython",
    "version": 3
   },
   "file_extension": ".py",
   "mimetype": "text/x-python",
   "name": "python",
   "nbconvert_exporter": "python",
   "pygments_lexer": "ipython3",
   "version": "3.7.9-final"
  },
  "orig_nbformat": 2,
  "kernelspec": {
   "name": "python3",
   "display_name": "Python 3",
   "language": "python"
  }
 },
 "nbformat": 4,
 "nbformat_minor": 2,
 "cells": [
  {
   "cell_type": "code",
   "execution_count": 1,
   "metadata": {},
   "outputs": [],
   "source": [
    "import sys\n",
    "import nltk\n",
    "from nltk.corpus import stopwords"
   ]
  },
  {
   "cell_type": "code",
   "execution_count": 2,
   "metadata": {},
   "outputs": [],
   "source": [
    "sw = stopwords.words(\"french\")\n",
    "sw += [\"les\", \"plus\", \"cette\", \"fait\", \"faire\", \"être\", \"deux\", \"comme\", \"dont\", \"tout\",\n",
    "       \"ils\", \"bien\", \"sans\", \"peut\", \"tous\", \"après\", \"ainsi\", \"donc\", \"cet\", \"sous\",\n",
    "       \"celle\", \"entre\", \"encore\", \"toutes\", \"pendant\", \"moins\", \"dire\", \"cela\", \"non\",\n",
    "       \"faut\", \"trois\", \"aussi\", \"dit\", \"avoir\", \"doit\", \"contre\", \"depuis\", \"autres\",\n",
    "       \"van\", \"het\", \"autre\", \"jusqu\", \"ville\", \"demande\", \"question\", \"conseil\", \"communal\",\"rue\", \"nouvelle\",\"fait\",\"commune\"]\n",
    "sw = set(sw)"
   ]
  },
  {
   "cell_type": "code",
   "execution_count": 30,
   "metadata": {},
   "outputs": [],
   "source": [
    "  path = f\"C:/Users/Geraud/Documents/tac/final_tp/datact/allct.txt\"\n",
    "  output = open(\"trial_keywords.txt\", \"w\")\n",
    "  with open(path, encoding='utf-8') as f:\n",
    "    text = f.read()\n",
    "   "
   ]
  },
  {
   "cell_type": "code",
   "execution_count": 31,
   "metadata": {},
   "outputs": [
    {
     "output_type": "execute_result",
     "data": {
      "text/plain": [
       "\"—\\n\\n105 —\\n\\nnable, sise à p r o x i m i t é\\n\\nde 1 é t a b l i s s e m e n t ,\\n\\ntion se trouve\\n\\nd e s u b i r les e x i g e n c e s\\n\\nobligée\\n\\nsans q u e l ' a d m i n i s t r a des p r o p r i é t a i r \""
      ]
     },
     "metadata": {},
     "execution_count": 31
    }
   ],
   "source": [
    "text[:200]"
   ]
  },
  {
   "cell_type": "code",
   "execution_count": 33,
   "metadata": {},
   "outputs": [
    {
     "output_type": "execute_result",
     "data": {
      "text/plain": [
       "3102958"
      ]
     },
     "metadata": {},
     "execution_count": 33
    }
   ],
   "source": [
    "    words = nltk.wordpunct_tokenize(text)\n",
    "    kept = [w.lower() for w in words if len(\n",
    "            w) > 2 and w.isalpha() and w.lower() not in sw]\n",
    "    kept_string = \" \".join(kept)\n",
    "    output.write(kept_string)"
   ]
  },
  {
   "cell_type": "code",
   "execution_count": null,
   "metadata": {},
   "outputs": [],
   "source": []
  }
 ]
}