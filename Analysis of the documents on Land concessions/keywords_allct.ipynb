{
 "metadata": {
  "language_info": {
   "codemirror_mode": {
    "name": "ipython",
    "version": 3
   },
   "file_extension": ".py",
   "mimetype": "text/x-python",
   "name": "python",
   "nbconvert_exporter": "python",
   "pygments_lexer": "ipython3",
   "version": "3.7.9-final"
  },
  "orig_nbformat": 2,
  "kernelspec": {
   "name": "python3",
   "display_name": "Python 3",
   "language": "python"
  }
 },
 "nbformat": 4,
 "nbformat_minor": 2,
 "cells": [
  {
   "cell_type": "code",
   "execution_count": 1,
   "metadata": {},
   "outputs": [],
   "source": [
    "import os\n",
    "import yake"
   ]
  },
  {
   "cell_type": "code",
   "execution_count": 2,
   "metadata": {},
   "outputs": [
    {
     "output_type": "execute_result",
     "data": {
      "text/plain": [
       "{'conseil communal', 'conseil général'}"
      ]
     },
     "metadata": {},
     "execution_count": 2
    }
   ],
   "source": [
    "ignored = set([\"conseil communal\", \"conseil général\"])\n",
    "ignored"
   ]
  },
  {
   "cell_type": "code",
   "execution_count": 3,
   "metadata": {},
   "outputs": [
    {
     "output_type": "execute_result",
     "data": {
      "text/plain": [
       "<yake.yake.KeywordExtractor at 0x18fdff36588>"
      ]
     },
     "metadata": {},
     "execution_count": 3
    }
   ],
   "source": [
    "kw_extractor = yake.KeywordExtractor(lan=\"fr\", top=20)\n",
    "kw_extractor"
   ]
  },
  {
   "cell_type": "code",
   "execution_count": 4,
   "metadata": {},
   "outputs": [
    {
     "output_type": "execute_result",
     "data": {
      "text/plain": [
       "<yake.yake.KeywordExtractor at 0x18fdff41708>"
      ]
     },
     "metadata": {},
     "execution_count": 4
    }
   ],
   "source": [
    "kw_extractor = yake.KeywordExtractor(lan=\"fr\", top=20)\n",
    "kw_extractor"
   ]
  },
  {
   "cell_type": "code",
   "execution_count": 5,
   "metadata": {},
   "outputs": [],
   "source": [
    "data_path = \"C:/Users/Geraud/Documents/tac/final_tp/datact/txt_ct\"\n",
    "files = os.listdir(data_path)"
   ]
  },
  {
   "cell_type": "code",
   "execution_count": 6,
   "metadata": {},
   "outputs": [
    {
     "output_type": "execute_result",
     "data": {
      "text/plain": [
       "54"
      ]
     },
     "metadata": {},
     "execution_count": 6
    }
   ],
   "source": [
    "len(files)"
   ]
  },
  {
   "cell_type": "code",
   "execution_count": 7,
   "metadata": {},
   "outputs": [
    {
     "output_type": "execute_result",
     "data": {
      "text/plain": [
       "\"—\\n\\n105 —\\n\\nnable, sise à p r o x i m i t é\\n\\nde 1 é t a b l i s s e m e n t ,\\n\\ntion se trouve\\n\\nd e s u b i r les e x i g e n c e s\\n\\nobligée\\n\\nsans q u e l ' a d m i n i s t r a des p r o p r i é t a i r e s\\n\\nd'immeubles v o i s i n s d e l ' h ô p i t a l .\\nDrainage.\\n\\n— E n 1861 , l ' a d m i n i s t r a t i o n a fait a s s a i n i r , p a r\\n\\nle drainage, u n e p a r c e l l e d e t e r r e ,\\nH» 445,\\n\\ncontenant 81 ares\\n\\nsise\\n\\n54 centiares,\\n\\nà Ternaih,\\n\\nsection B ,\\n\\nappartenant à\\n\\nl'hospice\\n\\nTerarc\""
      ]
     },
     "metadata": {},
     "execution_count": 7
    }
   ],
   "source": [
    "text = open(f'C:/Users/Geraud/Documents/tac/final_tp/datact/allct.txt', encoding='utf-8').read()\n",
    "text[:500]"
   ]
  },
  {
   "cell_type": "code",
   "execution_count": 8,
   "metadata": {},
   "outputs": [],
   "source": [
    "# Extraire les mots clés de ce texte\n",
    "keywords = kw_extractor.extract_keywords(text)"
   ]
  },
  {
   "cell_type": "code",
   "execution_count": 9,
   "metadata": {},
   "outputs": [
    {
     "output_type": "execute_result",
     "data": {
      "text/plain": [
       "[(4.236252049865214e-07, 'voir conseil communal'),\n",
       " (6.803993342523488e-07, 'concession de terrain'),\n",
       " (9.073089757054787e-07, 'conseil communal'),\n",
       " (1.4798717560693333e-06, \"vote d'un crédit\"),\n",
       " (2.15320231898979e-06, 'ville'),\n",
       " (2.9305045668813085e-06, 'terrain rue van'),\n",
       " (3.4341999075833066e-06, 'terrain rue'),\n",
       " (3.508195421072323e-06, 'terrain pour sépulture'),\n",
       " (3.827294147137721e-06, 'voir administration communale'),\n",
       " (4.01586443600079e-06, 'maison rue'),\n",
       " (4.293744538656861e-06, 'concession'),\n",
       " (4.52034159582781e-06, 'conseil'),\n",
       " (5.1163132557970935e-06, \"concession d'une ligne\"),\n",
       " (5.398194477850749e-06, 'rue van artevelde'),\n",
       " (5.499435117809256e-06, \"ville d'un terrain\"),\n",
       " (5.717632643077238e-06, 'maison rue van'),\n",
       " (5.891355858488565e-06, 'voir voie publique'),\n",
       " (6.525258035563249e-06, 'rue'),\n",
       " (6.798525566046922e-06, 'avis favorable'),\n",
       " (7.1152793581691476e-06, \"acquisition d'un terrain\")]"
      ]
     },
     "metadata": {},
     "execution_count": 9
    }
   ],
   "source": [
    "keywords"
   ]
  },
  {
   "cell_type": "code",
   "execution_count": 21,
   "metadata": {},
   "outputs": [
    {
     "output_type": "execute_result",
     "data": {
      "text/plain": [
       "286"
      ]
     },
     "metadata": {},
     "execution_count": 21
    }
   ],
   "source": [
    "output = open(\"allct_keywords.txt\", \"w\")\n",
    "kept = []\n",
    "for score, kw in keywords:\n",
    "    words = kw.split()\n",
    "    if len(words) > 1 and kw not in ignored:\n",
    "        kept.append(kw)\n",
    "        kept_string = \" \".join(kept)\n",
    "output.write(kept_string)"
   ]
  },
  {
   "cell_type": "code",
   "execution_count": null,
   "metadata": {},
   "outputs": [],
   "source": [
    "output = open(\"allct_keywords.txt\", \"w\")\n",
    "kept = []\n",
    "for score, kw in keywords:\n",
    "    words = kw.split()\n",
    "    if len(words) > 1 and kw not in ignored:\n",
    "        kept.append(kw)\n",
    "        kept_string = \" \".join(kept)\n",
    "output.write(kept_string)"
   ]
  }
 ]
}